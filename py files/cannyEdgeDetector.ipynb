{
 "cells": [
  {
   "cell_type": "markdown",
   "metadata": {},
   "source": [
    "Canny Edge Detector\n",
    "\n",
    "Steps involved  \n",
    "1. Smoothing\n",
    "2. Finding gradients\n",
    "3. Double thresholding\n",
    "4. Applying hysterisis\n",
    "\n",
    "Smoothing\n",
    "\n",
    "Use a gaussian filter to smoothen the image.\n",
    "Example"
   ]
  },
  {
   "cell_type": "code",
   "execution_count": null,
   "metadata": {},
   "outputs": [],
   "source": []
  }
 ],
 "metadata": {
  "kernelspec": {
   "display_name": "Python 3",
   "language": "python",
   "name": "python3"
  },
  "language_info": {
   "codemirror_mode": {
    "name": "ipython",
    "version": 3
   },
   "file_extension": ".py",
   "mimetype": "text/x-python",
   "name": "python",
   "nbconvert_exporter": "python",
   "pygments_lexer": "ipython3",
   "version": "3.6.9"
  }
 },
 "nbformat": 4,
 "nbformat_minor": 4
}
